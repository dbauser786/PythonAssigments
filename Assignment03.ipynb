{
 "cells": [
  {
   "cell_type": "code",
   "execution_count": 1,
   "metadata": {},
   "outputs": [
    {
     "name": "stdout",
     "output_type": "stream",
     "text": [
      "Enter First Number: 3\n",
      "Enter Second Number: 4\n",
      "Enter which operation would you like to perform?\n",
      "Enter any of these char for specific operation +,-,*,/,** : **\n",
      "3 ** 4 : 81\n"
     ]
    }
   ],
   "source": [
    "frstnum = int(input(\"Enter First Number: \"))\n",
    "scndnum = int(input(\"Enter Second Number: \"))\n",
    "\n",
    "print(\"Enter which operation would you like to perform?\")\n",
    "ch = input(\"Enter any of these char for specific operation +,-,*,/,** : \")\n",
    "\n",
    "result = 0\n",
    "if ch == '+':\n",
    "    result = frstnum + scndnum\n",
    "elif ch == '-':\n",
    "    result = frstnum - scndnum\n",
    "elif ch == '*':\n",
    "    result = frstnum * scndnum\n",
    "elif ch == '/':\n",
    "    result = frstnum / scndnum\n",
    "elif ch == '**':\n",
    "    result = frstnum ** scndnum\n",
    "else:\n",
    "    print(\"Input character is not recognized!\")\n",
    "\n",
    "print(frstnum, ch , scndnum, \":\", result)"
   ]
  },
  {
   "cell_type": "code",
   "execution_count": 2,
   "metadata": {},
   "outputs": [
    {
     "name": "stdout",
     "output_type": "stream",
     "text": [
      "Numeric Value: 48\n",
      "Numeric Value: 739\n"
     ]
    }
   ],
   "source": [
    "listval = [48, 739, 'Abid','Karachi']\n",
    "\n",
    "for p in listval:\n",
    "    if  str(p).isdigit():\n",
    "        print(\"Numeric Value:\", p)"
   ]
  },
  {
   "cell_type": "code",
   "execution_count": 3,
   "metadata": {},
   "outputs": [
    {
     "name": "stdout",
     "output_type": "stream",
     "text": [
      "Current Dictionary is: \n",
      " {'Name': 'Zulfiqar', 'FName': 'Kamran'}\n",
      "\n",
      "Updated Dictionary is: \n",
      "  {'Name': 'Zulfiqar', 'FName': 'Kamran', 'Course': 'Diploma', 'Subject': 'BI Tool'}\n"
     ]
    }
   ],
   "source": [
    "student_dict = {'Name':'Zulfiqar', 'FName':'Kamran'} \n",
    "print(\"Current Dictionary is: \\n\", student_dict) \n",
    "\n",
    "student_dict['Course'] = 'Diploma'\n",
    "student_dict['Subject'] = 'BI Tool'\n",
    "print(\"\\nUpdated Dictionary is: \\n \", student_dict) "
   ]
  },
  {
   "cell_type": "code",
   "execution_count": 4,
   "metadata": {},
   "outputs": [
    {
     "name": "stdout",
     "output_type": "stream",
     "text": [
      "Numeric Value Sum : 751\n"
     ]
    }
   ],
   "source": [
    "    dictval = {'Physics': 127, 'Eng':270, 'Math':354}   \n",
    "    sum = 0\n",
    "    for k in dictval: \n",
    "        sum = sum + dictval[k] \n",
    " \n",
    "print(\"Numeric Value Sum :\", sum) "
   ]
  },
  {
   "cell_type": "code",
   "execution_count": 5,
   "metadata": {},
   "outputs": [
    {
     "name": "stdout",
     "output_type": "stream",
     "text": [
      "[6, 9, 5]\n"
     ]
    }
   ],
   "source": [
    "listval = [45,5,9,6,14,39,6,23,9,5]\n",
    "sval = {}\n",
    "dupval = []\n",
    "\n",
    "for x in listval:\n",
    "    if x not in sval:\n",
    "        sval[x] = 1\n",
    "    else:\n",
    "        if sval[x] == 1:\n",
    "            dupval.append(x)\n",
    "        sval[x] += 1\n",
    "        \n",
    "print(dupval)"
   ]
  },
  {
   "cell_type": "code",
   "execution_count": 6,
   "metadata": {},
   "outputs": [
    {
     "name": "stdout",
     "output_type": "stream",
     "text": [
      "Enter key to search: regno\n",
      "Present,  value = 200\n"
     ]
    }
   ],
   "source": [
    "dictlist = {'stdno': 30, 'regno':200, 'btchno':760} \n",
    "srchkey = input(\"Enter key to search: \")\n",
    "if srchkey in dictlist: \n",
    "        print(\"Present, \", end =\" \") \n",
    "        print(\"value =\", dictlist[srchkey]) \n",
    "else: \n",
    "        print(\"Not present\") "
   ]
  },
  {
   "cell_type": "code",
   "execution_count": null,
   "metadata": {},
   "outputs": [],
   "source": []
  }
 ],
 "metadata": {
  "kernelspec": {
   "display_name": "Python 3",
   "language": "python",
   "name": "python3"
  },
  "language_info": {
   "codemirror_mode": {
    "name": "ipython",
    "version": 3
   },
   "file_extension": ".py",
   "mimetype": "text/x-python",
   "name": "python",
   "nbconvert_exporter": "python",
   "pygments_lexer": "ipython3",
   "version": "3.7.4"
  }
 },
 "nbformat": 4,
 "nbformat_minor": 2
}
