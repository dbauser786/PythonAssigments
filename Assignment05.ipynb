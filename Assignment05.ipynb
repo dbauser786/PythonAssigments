{
 "cells": [
  {
   "cell_type": "code",
   "execution_count": 1,
   "metadata": {},
   "outputs": [
    {
     "name": "stdout",
     "output_type": "stream",
     "text": [
      "Input a number to compute the factiorial : 6\n",
      "720\n"
     ]
    }
   ],
   "source": [
    "def factorial(num):\n",
    "\n",
    "    if num < 0:\n",
    "\n",
    "       print(\"Sorry, factorial does not exist for negative numbers\")\n",
    "\n",
    "    elif num == 0:\n",
    "\n",
    "        return 1\n",
    "\n",
    "    else:\n",
    "\n",
    "        return num * factorial(num-1)\n",
    "\n",
    "num=int(input(\"Input a number to compute the factiorial : \"))\n",
    "\n",
    "print(factorial(num))"
   ]
  },
  {
   "cell_type": "code",
   "execution_count": 2,
   "metadata": {},
   "outputs": [],
   "source": [
    "def string_input(srl):\n",
    "\n",
    "    val={\"UPPER_CASE\":0, \"LOWER_CASE\":0}\n",
    "\n",
    "    for cnt in srl:\n",
    "\n",
    "        if cnt.isupper():\n",
    "\n",
    "           val[\"UPPER_CASE\"]+=1\n",
    "\n",
    "        elif cnt.islower():\n",
    "\n",
    "           val[\"LOWER_CASE\"]+=1\n",
    "\n",
    "        else:\n",
    "\n",
    "            pass\n",
    "\n",
    "    print (\"Original String : \", srl)\n",
    "\n",
    "    print (\"No. of Upper case characters : \", val[\"UPPER_CASE\"])\n",
    "\n",
    "    print (\"No. of Lower case Characters : \", val[\"LOWER_CASE\"])"
   ]
  },
  {
   "cell_type": "code",
   "execution_count": 3,
   "metadata": {},
   "outputs": [
    {
     "name": "stdout",
     "output_type": "stream",
     "text": [
      "Original String :  The quick Brown Fox jump over the Lazy Dog\n",
      "No. of Upper case characters :  5\n",
      "No. of Lower case Characters :  29\n"
     ]
    }
   ],
   "source": [
    " string_input('The quick Brown Fox jump over the Lazy Dog')"
   ]
  },
  {
   "cell_type": "code",
   "execution_count": 4,
   "metadata": {},
   "outputs": [
    {
     "name": "stdout",
     "output_type": "stream",
     "text": [
      "12 90 72 "
     ]
    }
   ],
   "source": [
    "valu_list = [35, 12, 41, 90, 39, 72]\n",
    "\n",
    "for cnt in valu_list:    \n",
    "\n",
    "    if cnt % 2 == 0:\n",
    "\n",
    "       print(cnt, end = \" \")"
   ]
  },
  {
   "cell_type": "code",
   "execution_count": 5,
   "metadata": {},
   "outputs": [
    {
     "name": "stdout",
     "output_type": "stream",
     "text": [
      "True\n"
     ]
    }
   ],
   "source": [
    "def isPalindrome(string):\n",
    "\n",
    "                left_pos = 0\n",
    "\n",
    "                right_pos = len(string) - 1\n",
    "\n",
    "               \n",
    "\n",
    "                while right_pos >= left_pos:\n",
    "\n",
    "                                if not string[left_pos] == string[right_pos]:\n",
    "\n",
    "                                                return False\n",
    "\n",
    "                                left_pos += 1\n",
    "\n",
    "                                right_pos -= 1\n",
    "\n",
    "                return True\n",
    "\n",
    "print(isPalindrome('aza'))"
   ]
  },
  {
   "cell_type": "code",
   "execution_count": 6,
   "metadata": {},
   "outputs": [
    {
     "name": "stdout",
     "output_type": "stream",
     "text": [
      "True\n"
     ]
    }
   ],
   "source": [
    "def primeval(n):\n",
    "\n",
    "    if (n==1):\n",
    "\n",
    "        return False\n",
    "\n",
    "    elif (n==2):\n",
    "\n",
    "        return True;\n",
    "\n",
    "    else:\n",
    "\n",
    "        for x in range(2,n):\n",
    "\n",
    "            if(n % x==0):\n",
    "\n",
    "                return False\n",
    "\n",
    "        return True            \n",
    "\n",
    "print(primeval(3))"
   ]
  },
  {
   "cell_type": "code",
   "execution_count": 7,
   "metadata": {},
   "outputs": [
    {
     "name": "stdout",
     "output_type": "stream",
     "text": [
      "\n",
      "Enter the item you bought from market \n",
      "If you leave enter'quit': 2 Dozen Eggs\n",
      "\n",
      "Enter the item you bought from market \n",
      "If you leave enter'quit': 1 Kg Vegitables\n",
      "\n",
      "Enter the item you bought from market \n",
      "If you leave enter'quit': 1 Oil Bottle\n",
      "\n",
      "Enter the item you bought from market \n",
      "If you leave enter'quit': 4 Packets of Cheeps\n",
      "\n",
      "Enter the item you bought from market \n",
      "If you leave enter'quit': 1 Katch up Bottle\n",
      "\n",
      "Enter the item you bought from market \n",
      "If you leave enter'quit': quit\n",
      "\n",
      "--------- Shopping List --------\n",
      "You bought:  2 Dozen Eggs\n",
      "You bought:  1 Kg Vegitables\n",
      "You bought:  1 Oil Bottle\n",
      "You bought:  4 Packets of Cheeps\n",
      "You bought:  1 Katch up Bottle\n"
     ]
    }
   ],
   "source": [
    "def customer_shopping(shopping_list):\n",
    "    print(\"\\n--------- Shopping List --------\")    \n",
    "    for element in shopping_list:\n",
    "        print(\"You bought: \",element)\n",
    "\n",
    "shopping_list = []\n",
    "\n",
    "while True:\n",
    "    items = input(\"\\nEnter the item you bought from market \\nIf you leave enter'quit': \")\n",
    "    if items == 'quit':\n",
    "        break\n",
    "    shopping_list.append(items)\n",
    "\n",
    "customer_shopping(shopping_list)"
   ]
  },
  {
   "cell_type": "code",
   "execution_count": null,
   "metadata": {},
   "outputs": [],
   "source": []
  }
 ],
 "metadata": {
  "kernelspec": {
   "display_name": "Python 3",
   "language": "python",
   "name": "python3"
  },
  "language_info": {
   "codemirror_mode": {
    "name": "ipython",
    "version": 3
   },
   "file_extension": ".py",
   "mimetype": "text/x-python",
   "name": "python",
   "nbconvert_exporter": "python",
   "pygments_lexer": "ipython3",
   "version": "3.7.4"
  }
 },
 "nbformat": 4,
 "nbformat_minor": 2
}
