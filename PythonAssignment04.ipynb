{
 "cells": [
  {
   "cell_type": "code",
   "execution_count": 1,
   "metadata": {},
   "outputs": [
    {
     "name": "stdout",
     "output_type": "stream",
     "text": [
      "{'first_name': 'Shah', 'last_name': 'Faisal', 'age': 43, 'city': 'Karachi'}\n"
     ]
    }
   ],
   "source": [
    "personinfo = {\n",
    "    'first_name': 'Shah',\n",
    "    'last_name': 'Faisal',\n",
    "    'age': 43,\n",
    "    'city': 'Karachi',\n",
    "    }\n",
    "print(personinfo)"
   ]
  },
  {
   "cell_type": "code",
   "execution_count": 2,
   "metadata": {},
   "outputs": [
    {
     "name": "stdout",
     "output_type": "stream",
     "text": [
      "{'first_name': 'Shah', 'last_name': 'Faisal', 'age': 43, 'city': 'Karachi', 'Qualification': 'Bachelor of Computer Science'}\n"
     ]
    }
   ],
   "source": [
    "personinfo['Qualification'] = 'Bachelor of Computer Science'\n",
    "print(personinfo)"
   ]
  },
  {
   "cell_type": "code",
   "execution_count": 3,
   "metadata": {},
   "outputs": [
    {
     "name": "stdout",
     "output_type": "stream",
     "text": [
      "{'first_name': 'Shah', 'last_name': 'Faisal', 'age': 43, 'city': 'Karachi', 'Qualification': 'MBA'}\n"
     ]
    }
   ],
   "source": [
    "personinfo.update( Qualification = 'MBA' )\n",
    "print(personinfo)"
   ]
  },
  {
   "cell_type": "code",
   "execution_count": 5,
   "metadata": {},
   "outputs": [
    {
     "data": {
      "text/plain": [
       "'MBA'"
      ]
     },
     "execution_count": 5,
     "metadata": {},
     "output_type": "execute_result"
    }
   ],
   "source": [
    "personinfo.pop('Qualification')"
   ]
  },
  {
   "cell_type": "code",
   "execution_count": 6,
   "metadata": {},
   "outputs": [
    {
     "name": "stdout",
     "output_type": "stream",
     "text": [
      "{'first_name': 'Shah', 'last_name': 'Faisal', 'age': 43, 'city': 'Karachi'}\n"
     ]
    }
   ],
   "source": [
    "print(personinfo)"
   ]
  },
  {
   "cell_type": "code",
   "execution_count": 7,
   "metadata": {},
   "outputs": [
    {
     "name": "stdout",
     "output_type": "stream",
     "text": [
      "\n",
      "Kabul is in Afghanistan.\n",
      "  There is population about 29863010.\n",
      "  The 46.60 is a Birth Rate.\n",
      "\n",
      "Canberra is in Australia.\n",
      "  There is population about 20155130.\n",
      "  The 12.14 is a Birth Rate.\n",
      "\n",
      "Buenos Aires is in Argentina.\n",
      "  There is population about 38747150.\n",
      "  The 16.73 is a Birth Rate.\n"
     ]
    }
   ],
   "source": [
    "nameofcities = {\n",
    "    'Kabul': {\n",
    "        'country': 'Afghanistan' ,\n",
    "        'population': 29863010,\n",
    "        'Birth Rate': '46.60',\n",
    "        },\n",
    "    'Canberra': {\n",
    "        'country': 'Australia',\n",
    "        'population': 20155130,\n",
    "        'Birth Rate': '12.14',\n",
    "        },\n",
    "    'Buenos Aires': {\n",
    "        'country': 'Argentina',\n",
    "        'population': 38747150,\n",
    "        'Birth Rate': '16.73',\n",
    "        }\n",
    "    }\n",
    "for city, city_info in nameofcities.items():\n",
    "    country = city_info['country'].title()\n",
    "    population = city_info['population']\n",
    "    birthrate = city_info['Birth Rate'].title()\n",
    "    print(\"\\n\" + city.title() + \" is in \" + country + \".\")\n",
    "    print(\"  There is population about \" + str(population) + \".\")\n",
    "    print(\"  The \" + birthrate + \" is a Birth Rate.\")"
   ]
  },
  {
   "cell_type": "code",
   "execution_count": 8,
   "metadata": {},
   "outputs": [
    {
     "name": "stdout",
     "output_type": "stream",
     "text": [
      "\n",
      "Enter 'exit' when you are finished. \n",
      "\n",
      "\n",
      "How old are you? 10\n",
      " \n",
      " The ticket is $10.\n"
     ]
    }
   ],
   "source": [
    "prompt = \"\\nHow old are you? \"\n",
    "\n",
    "print(\"\\nEnter 'exit' when you are finished. \\n\")\n",
    "\n",
    "\n",
    "cond = False\n",
    "\n",
    "\n",
    "while cond==False:\n",
    "\n",
    "    age = input(prompt)\n",
    "\n",
    "    if age == 'exit':\n",
    "        cond = True\n",
    "        print(\"\\n ===End of Program===\")\n",
    "        break\n",
    "\n",
    "    age = int(age)\n",
    " \n",
    "\n",
    "    if age < 3:\n",
    "        print(\"  \\nThe ticket is free!\")\n",
    "        cond = True\n",
    "    elif age < 13:\n",
    "        print(\" \\n The ticket is $10.\")\n",
    "        cond = True\n",
    "    else:\n",
    "        print(\" \\n The ticket is $15.\")\n",
    "        cond = True"
   ]
  },
  {
   "cell_type": "code",
   "execution_count": 9,
   "metadata": {},
   "outputs": [
    {
     "name": "stdout",
     "output_type": "stream",
     "text": [
      "One of my favorite books is Alice in Wonderland\n"
     ]
    }
   ],
   "source": [
    "def favorite_book(title):\n",
    "\n",
    "    print(\"One of my favorite books is \" + title)\n",
    "\n",
    "favorite_book('Alice in Wonderland')"
   ]
  },
  {
   "cell_type": "code",
   "execution_count": 10,
   "metadata": {},
   "outputs": [
    {
     "name": "stdout",
     "output_type": "stream",
     "text": [
      "Random number Generated 15\n",
      "Guess your Number, Pleas: 15\n",
      "Well judgement! - Your Guessed Nnumber:  15\n",
      "\n",
      "End of program\n"
     ]
    }
   ],
   "source": [
    "import random\n",
    "\n",
    "randomNumber = random.randrange(0,30)\n",
    "\n",
    "print(\"Random number Generated\", randomNumber )\n",
    "\n",
    "guessval = False\n",
    "\n",
    "cnt = 1\n",
    "\n",
    "while cnt <4 :\n",
    "\n",
    "    userInput = int(input(\"Guess your Number, Pleas: \"))\n",
    "\n",
    "    if userInput==randomNumber:\n",
    "\n",
    "        guessval = True\n",
    "\n",
    "        print(\"Well judgement! - Your Guessed Nnumber: \", randomNumber)\n",
    "\n",
    "        break\n",
    "\n",
    "    elif userInput>30:\n",
    "\n",
    "        print(\"Our guess range is between 0 and 30, please try a bit lower\")\n",
    "\n",
    "    elif userInput<0:\n",
    "\n",
    "        print(\"Our guess range is between 0 and 30, please try a bit higher\")\n",
    "\n",
    "    elif userInput>randomNumber:\n",
    "\n",
    "        print(\"Try one more time, a bit lower\")\n",
    "\n",
    "    elif userInput < randomNumber:\n",
    "\n",
    "        print(\"Try one more time, a bit higher\")\n",
    "\n",
    "    cnt += 1    \n",
    "\n",
    " \n",
    "\n",
    "print(\"\\nEnd of program\")"
   ]
  },
  {
   "cell_type": "code",
   "execution_count": null,
   "metadata": {},
   "outputs": [],
   "source": []
  }
 ],
 "metadata": {
  "kernelspec": {
   "display_name": "Python 3",
   "language": "python",
   "name": "python3"
  },
  "language_info": {
   "codemirror_mode": {
    "name": "ipython",
    "version": 3
   },
   "file_extension": ".py",
   "mimetype": "text/x-python",
   "name": "python",
   "nbconvert_exporter": "python",
   "pygments_lexer": "ipython3",
   "version": "3.7.4"
  }
 },
 "nbformat": 4,
 "nbformat_minor": 2
}
